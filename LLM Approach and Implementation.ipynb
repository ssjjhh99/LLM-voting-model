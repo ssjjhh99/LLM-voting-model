{
 "cells": [
  {
   "cell_type": "markdown",
   "id": "0f4f9e97",
   "metadata": {},
   "source": [
    "Approach and Implementation"
   ]
  },
  {
   "cell_type": "markdown",
   "id": "6502c4e8",
   "metadata": {},
   "source": [
    "Step 1: Import state csv into the program by using pandas dataframes\n",
    "If we are given 325 million synthetic individuals data:\n",
    "age(19) x gender(2) x ethnicity(6) x income(16) x MSA(2) x state(51) = 996096 total groups"
   ]
  },
  {
   "cell_type": "code",
   "execution_count": null,
   "id": "9978d7cc",
   "metadata": {},
   "outputs": [],
   "source": [
    "import pandas as pd\n",
    "df = pd.read_csv(\"/Users/stephs/Desktop/AK.csv\")\n",
    "#vm is a global\n",
    "vm =  pd.read_csv(\"/Users/stephs/Desktop/variable_mapping.csv\")\n",
    "#we put corresponding age group and other variables based on variable_mapping.csv into the AK.csv\n",
    "# dem_01 to AGE_GROUP\n",
    "age_vm = vm[vm[\"var_id\"] == \"dem_01\"]\n",
    "age_dict = dict(zip(age_vm[\"value_id\"], age_vm[\"var_values\"]))\n",
    "df[\"AGE_GROUP\"] = df[\"dem_01\"].map(age_dict)\n",
    "\n",
    "# dem_02 to GENDER \n",
    "gender_vm = vm[vm[\"var_id\"] == \"dem_02\"]\n",
    "gender_dict = dict(zip(gender_vm[\"value_id\"], gender_vm[\"var_values\"]))\n",
    "df[\"GENDER\"] = df[\"dem_02\"].map(gender_dict)\n",
    "\n",
    "# dem_03 to ETHNICITY\n",
    "ethnicity_vm = vm[vm[\"var_id\"] == \"dem_03\"]\n",
    "ethnicity_dict = dict(zip(ethnicity_vm[\"value_id\"], ethnicity_vm[\"var_values\"]))\n",
    "df[\"ETHNICITY\"] = df[\"dem_03\"].map(ethnicity_dict)\n",
    "\n",
    "# dem_13 to INCOME_GROUP \n",
    "income_vm = vm[vm[\"var_id\"] == \"dem_13\"]\n",
    "income_dict = dict(zip(income_vm[\"value_id\"], income_vm[\"var_values\"]))\n",
    "df[\"INCOME_GROUP\"] = df[\"dem_13\"].map(income_dict)\n",
    "#then now we can group those with same traits\n",
    "grouped = df.groupby([\"AGE_GROUP\", \"GENDER\", \"ETHNICITY\", \"INCOME_GROUP\", \"loc_msa\"])\n",
    "\n",
    "#this part can also make as a function with parameter 'df' from different csv files\n"
   ]
  },
  {
   "cell_type": "markdown",
   "id": "b333ddc4",
   "metadata": {},
   "source": [
    "Step 2: Query LLM for Voting Probability\n",
    "You can create a function, so that each time when you want to put something in LLM, you call this function"
   ]
  },
  {
   "cell_type": "code",
   "execution_count": null,
   "id": "1652b5f4",
   "metadata": {},
   "outputs": [],
   "source": [
    "def call_LLM(random_sample):\n",
    "    number_of_prediction = int(input(\"How many predictions do you want to make? \"))\n",
    "    final_prompt = ''\n",
    "    \n",
    "    for _ in range(number_of_prediction):\n",
    "        first_person = input(\"What's the first candidate's name? \")\n",
    "        second_person = input(\"What's the second candidate's name? \")\n",
    "\n",
    "        # Assume random_sample is a string like \n",
    "        # \"22  to 24 years, Population of one race: White, Female in Alaska family income with \n",
    "        # Less than $10 000, live in Small town\"\n",
    "        prompt = (\n",
    "            \"If the person's info is: \" + random_sample + \"\\n\"\n",
    "            \"What is the probability this person votes for \" + first_person + \n",
    "            \" when choosing between \" + first_person + \" and \" + second_person + \"?\"\n",
    "        )\n",
    "        final_prompt += prompt + '\\n\\n'\n",
    "\n",
    "    # Now this prompt is ready to be sent to the LLM\n",
    "    print(\"Prompt to send to LLM:\\n\", final_prompt)\n",
    "    # Send `final_prompt` to LLM API here\n",
    "    # return LLM_response\n",
    "\n"
   ]
  },
  {
   "cell_type": "markdown",
   "id": "f0271898",
   "metadata": {},
   "source": [
    "Step 3: randomly select one sample from each group/combination"
   ]
  },
  {
   "cell_type": "code",
   "execution_count": null,
   "id": "58153e00",
   "metadata": {},
   "outputs": [],
   "source": [
    "import random\n",
    "# a function that whenever import a new state you can use it.\n",
    "def process_state(df,state_name, vm):\n",
    "    for group_key, group_df in grouped:\n",
    "        # Randomly pick one row from this group (group_df)\n",
    "        if not group_df.empty:\n",
    "            random_row = group_df.sample(n=1).iloc[0]\n",
    "            new_prompt = (\n",
    "                f\"{random_row['AGE_GROUP']}, \"\n",
    "                f\"{random_row['ETHNICITY']}, \"\n",
    "                #\n",
    "                f\"{random_row['GENDER']} in {state_name} family income with \"\n",
    "                f\"{random_row['INCOME_GROUP']}, live in \"\n",
    "                f\"{'Small town' if random_row['loc_msa']== 'S' else 'Large city'}\"\n",
    "            )\n",
    "\n",
    "    \n",
    "        # Send this to the LLM prompt function\n",
    "        call_LLM(new_prompt)\n"
   ]
  },
  {
   "cell_type": "markdown",
   "id": "2eee4755",
   "metadata": {},
   "source": [
    "Further enhancement:\n",
    "now we do 7296 x 51 times calling call_LLM function, if we want to reduce the frequency, we can pass 5 groups at once into LLM"
   ]
  }
 ],
 "metadata": {
  "language_info": {
   "name": "python"
  }
 },
 "nbformat": 4,
 "nbformat_minor": 5
}
